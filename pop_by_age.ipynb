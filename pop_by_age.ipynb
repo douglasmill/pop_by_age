{
 "cells": [
  {
   "cell_type": "markdown",
   "metadata": {},
   "source": [
    "********************************************************************************************************************************** \n",
    "********************************************************************************************************************************** \n",
    "Working on a data science project for the first time in months. This project is using a dataset on population distribution by country found on Kaggle. Will be creating data visualizations as well as trying to incorporate machine learning further into the project.\n",
    "This is the EDA file. Dependencies will be listed in a \"requirements.txt\" file. This project will use Anaconda environment\n",
    "inside of VSCode in order to display data visualizations in the interactive window. Author: @douglasmill\n",
    "**********************************************************************************************************************************\n",
    "********************************************************************************************************************************** \n"
   ]
  },
  {
   "cell_type": "code",
   "execution_count": 13,
   "metadata": {
    "scrolled": false
   },
   "outputs": [
    {
     "name": "stdout",
     "output_type": "stream",
     "text": [
      "Total World Population:  7909285293\n",
      "Number of columns:  7\n"
     ]
    },
    {
     "data": {
      "text/plain": [
       "<AxesSubplot:>"
      ]
     },
     "execution_count": 13,
     "metadata": {},
     "output_type": "execute_result"
    },
    {
     "data": {
      "image/png": "[encoded data removed]",
      "text/plain": [
       "<Figure size 432x288 with 2 Axes>"
      ]
     },
     "metadata": {
      "needs_background": "light"
     },
     "output_type": "display_data"
    }
   ],
   "source": [
    "import pandas as pd\n",
    "import numpy as np\n",
    "import matplotlib.pyplot as plt\n",
    "import seaborn as sns\n",
    "\n",
    "df = pd.read_csv('population_by_age_group.csv')\n",
    "print(\"Total World Population: \", df['Total'].sum())\n",
    "# print(\"List of all countries: \", df[['Country']].to_string(index=False))\n",
    "print(\"Number of columns: \", len(df.columns))\n",
    "\n",
    "##First Visualization; seaborn map of missing values. Meaning of colors: yellow is missing, blue is not missing.\n",
    "cols = df.columns\n",
    "colours = ['#000099', '#ffff00']\n",
    "sns.heatmap(df[cols].isnull(), cmap=sns.color_palette(colours))\n",
    "\n",
    "##Information Statements regarding dataframe and the statistics of various columns:\n",
    "# df.head()\n",
    "# df.info()\n",
    "# df.describe()"
   ]
  },
  {
   "cell_type": "code",
   "execution_count": 20,
   "metadata": {},
   "outputs": [
    {
     "name": "stdout",
     "output_type": "stream",
     "text": [
      "USA Stats:             Country      Total       65+  25-64 years  15-24 years  5-14 years  \\\n",
      "223  United States  336997630  56207480    175246610     44064944    42314180   \n",
      "\n",
      "     0-4 years  \n",
      "223   19164416  \n"
     ]
    }
   ],
   "source": [
    "#Taking a look at the United StaStes\n",
    "america_df = df[df['Country']=='United States']\n",
    "print(\"USA Stats: \", america_df)"
   ]
  },
  {
   "cell_type": "code",
   "execution_count": 15,
   "metadata": {},
   "outputs": [
    {
     "name": "stdout",
     "output_type": "stream",
     "text": [
      "Number of countries with >= 50M population:  29\n"
     ]
    }
   ],
   "source": [
    "#Taking a look at countries with at least 50M population\n",
    "fiftym_df = df[df['Total']>= 50000000]\n",
    "print(\"Number of countries with >= 50M population: \", len(fiftym_df))\n",
    "# print(\"Countries with >= 50M total population: \", fiftym_df['Country'])"
   ]
  },
  {
   "cell_type": "code",
   "execution_count": 16,
   "metadata": {},
   "outputs": [
    {
     "name": "stdout",
     "output_type": "stream",
     "text": [
      "Number of countries with >= 100M population:  14\n"
     ]
    }
   ],
   "source": [
    "#Taking a look at countries with at least 100M population\n",
    "hundredm_df = df[df['Total']>= 100000000]\n",
    "print(\"Number of countries with >= 100M population: \", len(hundredm_df))\n",
    "# print(\"Countries with >= 100M total population: \", hundredm_df['Country'])\n",
    "# print(hundredm_df.sort_values('Total', ascending=False))\n",
    "countries_by_total = []\n",
    "countries_by_total.append(hundredm_df.sort_values('Total', ascending=False))\n",
    "# print(countries_by_total)\n",
    "# countries_by_total['Percentage_of_population_65'] = countries_by_total['65+'].astype(int)/countries_by_total['Total'].astype(int)\n",
    "# print(countries_by_total.info())"
   ]
  },
  {
   "cell_type": "code",
   "execution_count": null,
   "metadata": {},
   "outputs": [],
   "source": []
  }
 ],
 "metadata": {
  "kernelspec": {
   "display_name": "Python (learn-env)",
   "language": "python",
   "name": "learn-env"
  },
  "language_info": {
   "codemirror_mode": {
    "name": "ipython",
    "version": 3
   },
   "file_extension": ".py",
   "mimetype": "text/x-python",
   "name": "python",
   "nbconvert_exporter": "python",
   "pygments_lexer": "ipython3",
   "version": "3.8.5"
  }
 },
 "nbformat": 4,
 "nbformat_minor": 4
}
